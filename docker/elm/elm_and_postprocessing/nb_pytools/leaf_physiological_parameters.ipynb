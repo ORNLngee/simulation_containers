{
 "cells": [
  {
   "cell_type": "raw",
   "id": "936c48f6-654b-49e5-9405-4ff95bc02286",
   "metadata": {},
   "source": [
    "# Load the required Python libraries\n",
    "\n",
    "import matplotlib.pyplot as plt\n",
    "import pandas as pd\n",
    "import os\n",
    "import glob, numpy, csv"
   ]
  },
  {
   "cell_type": "code",
   "execution_count": null,
   "id": "85769ab7-7914-4878-9f83-100e300d9500",
   "metadata": {},
   "outputs": [],
   "source": [
    "# URL for getting some NGEE arctic data\n",
    "\n",
    "# src urlhttps://ngee.ornl.gov/ngeedata/lma_leaf_carbon_nitrogen/data/\n",
    "#https://ngee.ornl.gov/ngeedata/lma_leaf_carbon_nitrogen/data/NGEEArctic_BNL_leaf_C_N_LMA_2012-2016.csv"
   ]
  },
  {
   "cell_type": "code",
   "execution_count": null,
   "id": "44ad6ae3-8270-4b15-bb0c-104e56847fa0",
   "metadata": {},
   "outputs": [],
   "source": [
    "#param_data = pd.read_csv('https://ngee.ornl.gov/ngeedata/lma_leaf_carbon_nitrogen/data/NGEEArctic_BNL_leaf_C_N_LMA_2012-2016.csv', \\\n",
    "#                        , skiprows=2)\n",
    "\n",
    "data_header = pd.read_csv('https://ngee.ornl.gov/ngeedata/lma_leaf_carbon_nitrogen/data/NGEEArctic_BNL_leaf_C_N_LMA_2012-2016.csv',\\\n",
    "                          skiprows=8, nrows=0)\n",
    "param_data = pd.read_csv('https://ngee.ornl.gov/ngeedata/lma_leaf_carbon_nitrogen/data/NGEEArctic_BNL_leaf_C_N_LMA_2012-2016.csv',\\\n",
    "                          skiprows=10)"
   ]
  },
  {
   "cell_type": "code",
   "execution_count": null,
   "id": "c5b2dc51-683f-4927-bc11-d49d8c79fa0b",
   "metadata": {},
   "outputs": [],
   "source": [
    "print(data_header)"
   ]
  },
  {
   "cell_type": "code",
   "execution_count": null,
   "id": "326f1320-9fa4-4ca0-9e2b-04112331ae56",
   "metadata": {},
   "outputs": [],
   "source": [
    "print(param_data)"
   ]
  },
  {
   "cell_type": "code",
   "execution_count": null,
   "id": "24a33883-388e-469e-9603-ffb46fb7f5e2",
   "metadata": {},
   "outputs": [],
   "source": [
    "#param_data2 = param_data.loc[:,data_header]"
   ]
  },
  {
   "cell_type": "code",
   "execution_count": null,
   "id": "a8f261d8-90fb-4c0c-b0a1-262474750a5f",
   "metadata": {},
   "outputs": [],
   "source": [
    "param_data.head()"
   ]
  },
  {
   "cell_type": "code",
   "execution_count": null,
   "id": "af2e5203-2713-4a67-b624-aba34012e723",
   "metadata": {},
   "outputs": [],
   "source": [
    "data_header"
   ]
  },
  {
   "cell_type": "code",
   "execution_count": null,
   "id": "cb146e1c-7942-4553-a8cc-18d02fc4408a",
   "metadata": {},
   "outputs": [],
   "source": [
    "fig = plt.figure(figsize=(12, 8))\n",
    "ax = fig.add_subplot(1, 1, 1)\n",
    "\n",
    "#param_data.iloc[:,4].where(param_data.iloc[:,4]>0).plot(ax=ax, kind='line')\n",
    "\n",
    "\n",
    "ax.hist(param_data.iloc[:,4].where(param_data.iloc[:,4]>0))\n",
    " \n",
    "# Show plot\n",
    "plt.show()"
   ]
  },
  {
   "cell_type": "code",
   "execution_count": null,
   "id": "79ffd71f-9ad4-410e-b782-e00e62de6258",
   "metadata": {},
   "outputs": [],
   "source": [
    "param_data.iloc[:,4]"
   ]
  },
  {
   "cell_type": "code",
   "execution_count": null,
   "id": "ca5bc72d-1e33-4dbd-a045-92f177488549",
   "metadata": {},
   "outputs": [],
   "source": []
  }
 ],
 "metadata": {
  "kernelspec": {
   "display_name": "Python 3 (ipykernel)",
   "language": "python",
   "name": "python3"
  },
  "language_info": {
   "codemirror_mode": {
    "name": "ipython",
    "version": 3
   },
   "file_extension": ".py",
   "mimetype": "text/x-python",
   "name": "python",
   "nbconvert_exporter": "python",
   "pygments_lexer": "ipython3",
   "version": "3.12.8"
  }
 },
 "nbformat": 4,
 "nbformat_minor": 5
}
