{
 "cells": [
  {
   "cell_type": "code",
   "execution_count": null,
   "id": "eb4b77ff-2d66-48a2-8c33-bec16a968ad3",
   "metadata": {},
   "outputs": [],
   "source": [
    "#### run_plot_KG64_ELM_output.py and display in jupyter notebook\n",
    "from IPython.display import Image"
   ]
  },
  {
   "cell_type": "code",
   "execution_count": null,
   "id": "4f1f9725-b602-4215-805d-a50a8638d4ad",
   "metadata": {},
   "outputs": [],
   "source": [
    "%%!\n",
    "python3 /home/jovyan/tools/elm_and_postprocessing/matplotlib_plotting/plot_KG64_ELM_output.py"
   ]
  },
  {
   "cell_type": "code",
   "execution_count": null,
   "id": "f2e8bd45",
   "metadata": {},
   "outputs": [],
   "source": [
    "Image(filename='/home/jovyan/work/C_and_N_budgets.png') "
   ]
  },
  {
   "cell_type": "code",
   "execution_count": null,
   "id": "47234ce6-4f7f-4b32-9c12-0e47bd21f410",
   "metadata": {},
   "outputs": [],
   "source": [
    "Image(filename='/home/jovyan/work/Temperature_and_ice.png') "
   ]
  }
 ],
 "metadata": {
  "kernelspec": {
   "display_name": "Python 3 (ipykernel)",
   "language": "python",
   "name": "python3"
  },
  "language_info": {
   "codemirror_mode": {
    "name": "ipython",
    "version": 3
   },
   "file_extension": ".py",
   "mimetype": "text/x-python",
   "name": "python",
   "nbconvert_exporter": "python",
   "pygments_lexer": "ipython3",
   "version": "3.12.8"
  }
 },
 "nbformat": 4,
 "nbformat_minor": 5
}
