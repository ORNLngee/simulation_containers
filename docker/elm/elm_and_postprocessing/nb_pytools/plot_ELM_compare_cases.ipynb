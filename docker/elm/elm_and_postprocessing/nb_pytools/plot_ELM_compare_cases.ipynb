{
 "cells": [
  {
   "cell_type": "markdown",
   "id": "60e8dd6e",
   "metadata": {},
   "source": [
    "<center><img src=\"https://github.com/FASSt-simulation/fasst_simulation_tools/raw/main/images/site-logo.png\" width=150 height=150 alt=\"NGEE-Arctic Logo\"/></center>\n",
    "\n",
    "# An example of comparing and plotting one variable from ELM output across multiple cases"
   ]
  },
  {
   "cell_type": "markdown",
   "id": "12f0ad2a-3fb4-46e1-b40f-ef0def6d842b",
   "metadata": {},
   "source": [
    "#### ----------------------------------------------------------------------------------------------------------------------\n",
    "\n",
    "<br>\n",
    "\n",
    "To run this script and generate the resulting ELM plots we need specific Python libraries.  This step loads those required libraries"
   ]
  },
  {
   "cell_type": "code",
   "execution_count": null,
   "id": "ad916fe0-2b77-4a21-befa-04927169a764",
   "metadata": {},
   "outputs": [],
   "source": [
    "import matplotlib.pyplot as plt\n",
    "import xarray\n",
    "import os\n",
    "import ipywidgets as widgets\n",
    "import glob, numpy"
   ]
  },
  {
   "cell_type": "markdown",
   "id": "b27dfdfc",
   "metadata": {},
   "source": [
    "Next, we locate the output data and identify which sites there is output for. This code creates a dropdown menu to pick the model run you want to plot."
   ]
  },
  {
   "cell_type": "code",
   "execution_count": null,
   "id": "0752a9fe-c5b5-4c65-b874-639db86db160",
   "metadata": {},
   "outputs": [],
   "source": [
    "output_rootdir=os.path.expanduser('~')+'/output/cime_run_dirs/'\n",
    "cases=sorted(glob.glob(\"%s*20TR*\" % output_rootdir))\n",
    "cases=[os.path.basename(x) for x in cases]\n",
    "cntl_dropdown = widgets.Dropdown(options=cases,\n",
    "                                description='Chose Control Case Name:',\n",
    "                                style={'description_width':'auto'},\n",
    "                                layout={'width':'max-content'},\n",
    "                                disabled=False)\n",
    "\n",
    "expt_dropdown = widgets.Dropdown(options=cases,\n",
    "                                description='Chose Experimental Case Name:',\n",
    "                                style={'description_width':'auto'},\n",
    "                                layout={'width':'max-content'},\n",
    "                                disabled=False)\n",
    "\n",
    "\n",
    "display(cntl_dropdown)\n",
    "display(expt_dropdown)"
   ]
  },
  {
   "cell_type": "markdown",
   "id": "b6b469a5",
   "metadata": {},
   "source": [
    "Here, we are using the combined output file over all years of the run. We read in the list of variables, units, and longer descriptions from the dataset. We use the time variable from the dataset to determine the start and end years."
   ]
  },
  {
   "cell_type": "code",
   "execution_count": null,
   "id": "6c1856a6-49f9-461d-93aa-17201bc02574",
   "metadata": {},
   "outputs": [],
   "source": [
    "cntl_output_file=output_rootdir + cntl_dropdown.value + '/run/ELM_output.nc'\n",
    "expt_output_file=output_rootdir + expt_dropdown.value + '/run/ELM_output.nc'\n",
    "\n",
    "#-------------------------------\n",
    "# Control case:\n",
    "# Read in the list of variable, units, and longer descriptions from the dataset\n",
    "with xarray.open_dataset(cntl_output_file) as cntl_data:\n",
    "    vars=cntl_data.variables\n",
    "    vars_names=list(vars.keys())\n",
    "    units=[cntl_data[var].attrs.get('units',None) for var in vars_names]\n",
    "    longnames=[cntl_data[var].attrs.get('long_name',None) for var in vars_names]\n",
    "\n",
    "    description=[f'{var} ({longname}) [{unit}]' for (var,longname,unit) in zip(vars_names,units,longnames)]\n",
    "\n",
    "    # Determine start and end year of the dataset\n",
    "    cntl_data_startyear=cntl_data.time[0].item().year\n",
    "    cntl_data_endyear=cntl_data.time[-1].item().year\n",
    "\n",
    "vars_dropdown = widgets.Dropdown(options=list(zip(description,vars_names)),\n",
    "                                description='Choose Variable Name',\n",
    "                                style={'description_width':'auto'},\n",
    "                                value='GPP',\n",
    "                                layout={'width':'max-content'},\n",
    "                                disabled=False)\n",
    "startyear_picker = widgets.BoundedIntText(value=cntl_data_startyear, min=cntl_data_startyear, max=cntl_data_endyear, step=1,\n",
    "                                          description='Choose start year',style={'description_width':'auto'})\n",
    "endyear_picker = widgets.BoundedIntText(value=cntl_data_endyear, min=cntl_data_startyear, max=cntl_data_endyear, step=1,\n",
    "                                          description='Choose end year',style={'description_width':'auto'})\n",
    "\n",
    "display(vars_dropdown)\n",
    "display(startyear_picker)\n",
    "display(endyear_picker)\n",
    "\n",
    "#-------------------------\n",
    "# Get data for experimental case:\n",
    "# Read in the list of variable, units, and longer descriptions from the dataset\n",
    "with xarray.open_dataset(expt_output_file) as expt_data:\n",
    "    expt_vars=expt_data.variables\n",
    "\n"
   ]
  },
  {
   "cell_type": "markdown",
   "id": "c52b4e1a",
   "metadata": {},
   "source": [
    "Using the fields above, you can pick the variable that you want to plot, and the start and end year of the time series to visualize."
   ]
  },
  {
   "cell_type": "markdown",
   "id": "3e27aa2a",
   "metadata": {},
   "source": [
    "Next, we read the variable from the dataset and select the time portion based on start and end year picked above."
   ]
  },
  {
   "cell_type": "code",
   "execution_count": null,
   "id": "cc5fc1ed-ae84-49f5-ad16-2fa02c6f7e49",
   "metadata": {},
   "outputs": [],
   "source": [
    "year_start=startyear_picker.value\n",
    "year_end=endyear_picker.value\n",
    "var=vars_dropdown.value\n",
    "\n",
    "with xarray.open_dataset(cntl_output_file).squeeze() as output:\n",
    "    if 'time' not in output[var].dims:\n",
    "        print(f'Variable {var} is not a time-series variable! Plotting will not work.')\n",
    "    else:\n",
    "        cntl_vardata=output[var].sel(time=slice(str(year_start),str(year_end)))\n",
    "    \n",
    "    if 'PFTnames' in output:\n",
    "        print('Output file is separated by plant functional type')\n",
    "        PFTnames=output['PFTnames']\n",
    "    else:\n",
    "        PFTnames=[]\n",
    "        \n",
    "with xarray.open_dataset(expt_output_file).squeeze() as output:\n",
    "    if 'time' not in output[var].dims:\n",
    "        print(f'Variable {var} is not a time-series variable! Plotting will not work.')\n",
    "    else:\n",
    "        expt_vardata=output[var].sel(time=slice(str(year_start),str(year_end)))\n",
    "    \n",
    "    if 'PFTnames' in output:\n",
    "        print('Output file is separated by plant functional type')\n",
    "        PFTnames=output['PFTnames']\n",
    "    else:\n",
    "        PFTnames=[]\n"
   ]
  },
  {
   "cell_type": "markdown",
   "id": "65759eef",
   "metadata": {},
   "source": [
    "Finally, we will create a figure and plot the variable. The code checks whether it is depth-defined or not. For depth-defined variables, it plots a two-dimensional time vs depth plot. Otherwise, it plots a time series. For model output that shows each plant functional type individually, it plots the plant functional types separately."
   ]
  },
  {
   "cell_type": "code",
   "execution_count": null,
   "id": "8b805c70-23e9-4607-9547-c8b7f458cbfc",
   "metadata": {},
   "outputs": [],
   "source": [
    "if 'levgrnd' in cntl_vardata.dims or 'levdcmp' in cntl_vardata.dims:\n",
    "    print('Variable is depth-defined. Plotting in two dimensions')\n",
    "    f, (a1, a2, a3) = plt.subplots(3, 1, sharey=False)\n",
    "    cntl_vardata.T.plot(ax=a1, cbar_kwargs={'label':'Control case'})\n",
    "    expt_vardata.T.plot(ax=a2, cbar_kwargs={'label':'Experimental case'})\n",
    "    diff = expt_vardata-cntl_vardata\n",
    "    diff.T.plot(ax=a3, cbar_kwargs={'label':'difference'})\n",
    "    maxdepth=2.0\n",
    "    a1.set_ylim(maxdepth,0.0)\n",
    "    a1.set_ylabel('Soil depth (m)')\n",
    "    a2.set_ylim(maxdepth,0.0)\n",
    "    a2.set_ylabel('Soil depth (m)')\n",
    "    a3.set_ylim(maxdepth,0.0)\n",
    "    a3.set_ylabel('Soil depth (m)')\n",
    "    varname=cntl_vardata.attrs['long_name']\n",
    "    units=cntl_vardata.attrs['units']\n",
    "    plt.suptitle(f'{varname} ({units})')\n",
    "elif 'PFT' in cntl_vardata.dims:\n",
    "    print('Variable is defined by plant functional type. Plotting one line per PFT')\n",
    "    print('No plot specified for this variable!')\n",
    "else:\n",
    "    print('Variable is not depth-defined. Plotting line plot.')\n",
    "    f,(a1,a2) = plt.subplots(1, 2, sharey=False)\n",
    "    a1.plot(cntl_vardata.time, cntl_vardata, label = 'Control case')\n",
    "    a1.plot(expt_vardata.time, expt_vardata, label = 'Experimental case')\n",
    "    varname=cntl_vardata.attrs['long_name']\n",
    "    units=cntl_vardata.attrs['units']\n",
    "    a1.set_ylabel(f'{varname} ({units})')\n",
    "    a1.set_xlabel('Time')\n",
    "    a1.legend(loc = 'upper right')\n",
    "    diff=expt_vardata-cntl_vardata\n",
    "    a2.plot(diff.time, diff, label = \"difference\") \n",
    "    a2.set_ylabel(f'difference in {varname}')\n",
    "    a2.set_xlabel('Time')\n",
    "    "
   ]
  },
  {
   "cell_type": "markdown",
   "id": "91cd77b8-30ac-47c7-a82c-1cad780af0e2",
   "metadata": {},
   "source": [
    "<center><img src=\"https://github.com/FASSt-simulation/fasst_simulation_tools/raw/main/images/site-logo.png\" width=150 height=150 alt=\"NGEE-Arctic Logo\"/></center>"
   ]
  }
 ],
 "metadata": {
  "kernelspec": {
   "display_name": "Python 3 (ipykernel)",
   "language": "python",
   "name": "python3"
  },
  "language_info": {
   "codemirror_mode": {
    "name": "ipython",
    "version": 3
   },
   "file_extension": ".py",
   "mimetype": "text/x-python",
   "name": "python",
   "nbconvert_exporter": "python",
   "pygments_lexer": "ipython3",
   "version": "3.12.8"
  },
  "vscode": {
   "interpreter": {
    "hash": "aee8b7b246df8f9039afb4144a1f6fd8d2ca17a180786b69acc140d282b71a49"
   }
  }
 },
 "nbformat": 4,
 "nbformat_minor": 5
}
