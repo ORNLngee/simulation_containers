{
 "cells": [
  {
   "cell_type": "code",
   "execution_count": null,
   "id": "5d75612e-263f-4fbf-a185-c63078dbbdac",
   "metadata": {},
   "outputs": [],
   "source": [
    "# Load the required Python libraries\n",
    "\n",
    "import matplotlib.pyplot as plt\n",
    "import xarray\n",
    "from netCDF4 import Dataset \n",
    "import os\n",
    "import cftime\n",
    "import ipywidgets as widgets\n",
    "import glob, numpy"
   ]
  },
  {
   "cell_type": "code",
   "execution_count": null,
   "id": "fb8647c0-d1c6-4954-982e-63f09a615b7e",
   "metadata": {},
   "outputs": [],
   "source": [
    "# Create case run output directories\n",
    "\n",
    "output_rootdir=os.path.expanduser('~')+'/output/cime_run_dirs/'\n",
    "cases=numpy.asarray(glob.glob(\"%s*20TR*\" % output_rootdir))\n",
    "cases=[x.split('/')[-1] for x in cases]\n",
    "cases_dropdown = widgets.Dropdown(options=cases,\n",
    "                                description='Chose Case Name:',\n",
    "                                style={'description_width':'auto'},\n",
    "                                layout={'width':'max-content'},\n",
    "                                disabled=False)"
   ]
  },
  {
   "cell_type": "code",
   "execution_count": null,
   "id": "3997810e-4bd6-45a0-b17d-c63f8c5bcb43",
   "metadata": {},
   "outputs": [],
   "source": [
    "# Show a dropdown menu to select specific case output\n",
    "# Any cases that have been run in our elmoutput directory will be displayed\n",
    "# Case names will contain the site codes:\n",
    "# AK-BEO; AK-CLG; AK-K64G AK-TLG\n",
    "\n",
    "display(cases_dropdown)"
   ]
  },
  {
   "cell_type": "code",
   "execution_count": null,
   "id": "014e8c97-acee-43ce-b803-4c5f49c0e775",
   "metadata": {},
   "outputs": [],
   "source": [
    "# Get the output nc file options\n",
    "\n",
    "output_casedir=output_rootdir+cases_dropdown.value+'/run/'\n",
    "filenames=numpy.asarray(glob.glob(\"%s*.elm.h?.*.nc\" % output_casedir))\n",
    "filenames=sorted([x.split('/')[-1] for x in filenames])\n",
    "if(os.path.exists(output_casedir+'ELM_output.nc')): filenames.insert(0,'ELM_output.nc')\n",
    "\n",
    "ncfiles_dropdown = widgets.Dropdown(options=filenames,\n",
    "                                description='Choose Output File:', \n",
    "                                style={'description_width':'auto'},\n",
    "                                layout={'width':'max-content'},\n",
    "                                disabled=False)"
   ]
  },
  {
   "cell_type": "code",
   "execution_count": null,
   "id": "462e9453-637c-4595-848c-a78a068211a3",
   "metadata": {},
   "outputs": [],
   "source": [
    "# Display the output nc file options - in most cases you will select ELM_output.nc\n",
    "\n",
    "display(ncfiles_dropdown)"
   ]
  },
  {
   "cell_type": "code",
   "execution_count": null,
   "id": "1ebf6a9d-dd6a-4666-b3e9-84903209b560",
   "metadata": {},
   "outputs": [],
   "source": [
    "# Set the output\n",
    "\n",
    "output_file=output_casedir+ncfiles_dropdown.value"
   ]
  },
  {
   "cell_type": "code",
   "execution_count": null,
   "id": "3b758fff-e1db-4817-a614-10ea25f59da7",
   "metadata": {},
   "outputs": [],
   "source": [
    "# Load model output data into xarray format. \n",
    "# squeeze removes an empty grid cell dimension assuming this is a single point run\n",
    "\n",
    "elm_output=xarray.open_dataset(output_file).squeeze()"
   ]
  },
  {
   "cell_type": "code",
   "execution_count": null,
   "id": "8dde15e3-4b99-412d-aa8c-e94532efe488",
   "metadata": {},
   "outputs": [],
   "source": [
    "# show the contents of elm_output\n",
    "\n",
    "print(elm_output)"
   ]
  },
  {
   "cell_type": "code",
   "execution_count": null,
   "id": "e9e41f81-2854-4ce9-a383-af582a98b950",
   "metadata": {},
   "outputs": [],
   "source": [
    "# Create a single plot of Total Vegetation Carbon\n",
    "\n",
    "TOTVEGC = elm_output['TOTVEGC']\n",
    "fig, ax = plt.subplots(clear=True, figsize=(12,7))\n",
    "TOTVEGC.plot(ax=ax,linestyle='-',color='blue',label='Total vegetation C')\n",
    "ax.set_title('Total Vegetation Carbon')"
   ]
  },
  {
   "cell_type": "code",
   "execution_count": null,
   "id": "5e507338-0361-448e-84b6-dc4aba18693c",
   "metadata": {},
   "outputs": [],
   "source": [
    "# Create a single plot of Leaf Carbon\n",
    "\n",
    "LEAFC = elm_output['LEAFC']\n",
    "fig, ax = plt.subplots(clear=True, figsize=(12,7))\n",
    "LEAFC.plot(ax=ax,linestyle='-',color='blue',label='Leaf C')\n",
    "ax.set_title('Leaf Carbon')"
   ]
  },
  {
   "cell_type": "code",
   "execution_count": null,
   "id": "ffb8a2e0-e95d-4a95-ad06-98631886d0f2",
   "metadata": {},
   "outputs": [],
   "source": [
    "# Plot the carbon and nitrogen budgets\n",
    "# Set up a figure with three axes\n",
    "\n",
    "fig,a=plt.subplots(nrows=3,ncols=2,clear=True,num='Carbon budgets',figsize=(15,13))\n",
    "\n",
    "ax=a[0,0]\n",
    "elm_output['TOTVEGC'].plot(ax=ax,linestyle='-',color='black',label='Total vegetation C')\n",
    "elm_output['LEAFC'].plot(ax=ax,linestyle='-',color='green',label='Leaf C')\n",
    "elm_output['FROOTC'].plot(ax=ax,linestyle='-',color='orange',label='Fine root C')\n",
    "(elm_output['DEADSTEMC']+elm_output['LIVESTEMC']+elm_output['DEADCROOTC']+elm_output['LIVECROOTC']).plot(ax=ax,linestyle='-',color='brown',label='Woody C')\n",
    "ax.legend()\n",
    "ax.set(title='Veg carbon pools',xlabel='Year',ylabel='Carbon stock (g C m$^{-2}$)')\n",
    "\n",
    "\n",
    "# Vegetation N\n",
    "ax=a[0,1]\n",
    "elm_output['TOTVEGN'].plot(ax=ax,linestyle='-',color='black',label='Total vegetation C')\n",
    "elm_output['LEAFN'].plot(ax=ax,linestyle='-',color='green',label='Leaf C')\n",
    "elm_output['FROOTN'].plot(ax=ax,linestyle='-',color='orange',label='Fine root C')\n",
    "# This is showing a negative N content for live coarse roots, which seems like a model issue we should check on...\n",
    "(elm_output['DEADSTEMN']+elm_output['LIVESTEMN']+elm_output['DEADCROOTN']+elm_output['LIVECROOTN']).plot(ax=ax,linestyle='-',color='brown',label='Woody C')\n",
    "ax.set(title='Veg nitrogen pools',xlabel='Year',ylabel='Nitrogen stock (g N m$^{-2}$)')\n",
    "\n",
    "# Soil C\n",
    "ax=a[1,0]\n",
    "elm_output['TOTSOMC'].plot(ax=ax,label='Soil C')\n",
    "ax.set(title='Soil C',xlabel='Year',ylabel='Carbon stock (g C m$^{-2}$)')\n",
    "\n",
    "# Soil N\n",
    "ax=a[1,1]\n",
    "elm_output['TOTSOMN'].plot(ax=ax,label='Soil N')\n",
    "ax.set(title='Soil N',xlabel='Year',ylabel='Nitrogen stock (g C m$^{-2}$)')\n",
    "\n",
    "# C fluxes \n",
    "# Just plotting over 5 years\n",
    "timerange=slice('2005-01-01','2010-01-01')\n",
    "\n",
    "ax=a[2,0]\n",
    "(elm_output['NEE']*24*3600).sel(time=timerange).plot(ax=ax,linestyle='-',color='black',label='Net ecosystem exchange')\n",
    "(elm_output['NPP']*24*3600).sel(time=timerange).plot(ax=ax,linestyle='-',color='green',label='Net primary production')\n",
    "(elm_output['HR']*24*3600).sel(time=timerange).plot(ax=ax,linestyle='-',color='brown',label='Ecosystem respiration')\n",
    "ax.legend()\n",
    "ax.set(title='C fluxes',xlabel='Year',ylabel='C flux (g C m$^{-2}$ day$^{-1}$)')\n",
    "\n",
    "# N fluxes\n",
    "ax=a[2,1]\n",
    "(elm_output['NET_NMIN']*24*3600).sel(time=timerange).plot(ax=ax,linestyle='-',color='blue',label='Net Nmin')\n",
    "(elm_output['GROSS_NMIN']*24*3600).sel(time=timerange).plot(ax=ax,linestyle='--',color='blue',label='Gross Nmin')\n",
    "(elm_output['SMINN_TO_PLANT']*24*3600).sel(time=timerange).plot(ax=ax,linestyle='-',color='green',label='Plant N uptake')\n",
    "(elm_output['PLANT_NDEMAND']*24*3600).sel(time=timerange).plot(ax=ax,linestyle='--',color='green',label='Plant N demand')\n",
    "\n",
    "# N dep - in this case its a very small amount\n",
    "(elm_output['NDEP_TO_SMINN']*24*3600).sel(time=timerange).plot(ax=ax,linestyle='-',color='C0',label='Atmospheric N dep')\n",
    "(elm_output['NFIX_TO_SMINN']*24*3600).sel(time=timerange).plot(ax=ax,linestyle='-',color='C1',label='N fixation')\n",
    "ax.legend()\n",
    "ax.set(title='N fluxes',xlabel='Year',ylabel='N flux (g N m$^{-2}$ day$^{-1}$)')"
   ]
  },
  {
   "cell_type": "code",
   "execution_count": null,
   "id": "088169a6-b831-4a61-8c1e-2cca1aa4143b",
   "metadata": {},
   "outputs": [],
   "source": [
    "# Soil temperature and freezing\n",
    "# Set up a figure with three rows\n",
    "\n",
    "fig,a=plt.subplots(nrows=4,clear=True,num='Soil temperature and ice',figsize=(15,13))\n",
    "\n",
    "## Subset output to the 1950-1997 period\n",
    "timerange=slice('1950-01-01','1998-01-01')\n",
    "\n",
    "ax=a[0]\n",
    "elm_output['ALTMAX'].sel(time=timerange).plot(ax=ax,label='Maximum active layer thickness',color='C1')\n",
    "elm_output['ZWT'].sel(time=timerange).plot(ax=ax,label='Water table depth',color='blue')\n",
    "elm_output['ZWT_PERCH'].sel(time=timerange).plot(ax=ax,label='Perched water table depth',color='blue',linestyle='--')\n",
    "ax.set(title='Active layer and water table',xlabel='',ylabel='Depth (m)')\n",
    "ax.legend()\n",
    "\n",
    "ax=a[1]\n",
    "elm_output['SNOW_DEPTH'].sel(time=timerange).plot(ax=ax,label='Snow depth')\n",
    "ax.set(title='Snow depth',xlabel='',ylabel='Depth (m)')\n",
    "\n",
    "ax=a[2]\n",
    "(elm_output['TSOI']-273.15).sel(time=timerange).T.plot(ax=ax,cbar_kwargs={'label':'Soil temperature (C)'},center=0,vmin=-10,vmax=10,cmap='coolwarm')\n",
    "elm_output['ALTMAX'].sel(time=timerange).plot(ax=ax,label='Maximum active layer thickness',color='k',linestyle=':',linewidth=0.5)\n",
    "ax.set(title='Soil temperature',xlabel='',ylabel='Depth (m)',ylim=(20,0))\n",
    "\n",
    "ax=a[3]\n",
    "(elm_output['SOILICE']/(elm_output['SOILLIQ']+elm_output['SOILICE'])).sel(time=timerange).T.plot(ax=ax,cbar_kwargs={'label':'Soil frozen water fraction'},cmap='Blues_r')\n",
    "ax.set(title='Soil moisture',xlabel='Year',ylabel='Depth (m)',ylim=(3,0))"
   ]
  }
 ],
 "metadata": {
  "kernelspec": {
   "display_name": "Python 3 (ipykernel)",
   "language": "python",
   "name": "python3"
  },
  "language_info": {
   "codemirror_mode": {
    "name": "ipython",
    "version": 3
   },
   "file_extension": ".py",
   "mimetype": "text/x-python",
   "name": "python",
   "nbconvert_exporter": "python",
   "pygments_lexer": "ipython3",
   "version": "3.12.8"
  }
 },
 "nbformat": 4,
 "nbformat_minor": 5
}
