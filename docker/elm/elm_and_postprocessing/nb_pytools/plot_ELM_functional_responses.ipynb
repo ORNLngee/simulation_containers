{
 "cells": [
  {
   "cell_type": "code",
   "execution_count": null,
   "id": "2730175a-7bc3-4253-b72c-46b85c908d71",
   "metadata": {},
   "outputs": [],
   "source": [
    "# Load the required Python libraries\n",
    "\n",
    "import matplotlib.pyplot as plt\n",
    "import xarray\n",
    "from netCDF4 import Dataset \n",
    "import os\n",
    "import cftime\n",
    "import ipywidgets as widgets\n",
    "import glob, numpy"
   ]
  },
  {
   "cell_type": "code",
   "execution_count": null,
   "id": "2ec8d759-218d-4bf2-89e4-3449ba6da1e1",
   "metadata": {},
   "outputs": [],
   "source": [
    "# Create case run output directories\n",
    "\n",
    "output_rootdir=os.path.expanduser('~')+'/output/cime_run_dirs/'\n",
    "cases=numpy.asarray(glob.glob(\"%s*20TR*\" % output_rootdir))\n",
    "cases=[x.split('/')[-1] for x in cases]\n",
    "cases_dropdown = widgets.Dropdown(options=cases,\n",
    "                                description='Chose Case Name:',\n",
    "                                style={'description_width':'auto'},\n",
    "                                layout={'width':'max-content'},\n",
    "                                disabled=False)"
   ]
  },
  {
   "cell_type": "code",
   "execution_count": null,
   "id": "a7c6ea2f-2b2c-486c-b79c-a0aafce17dee",
   "metadata": {},
   "outputs": [],
   "source": [
    "# Show a dropdown menu to select specific case output\n",
    "# Any cases that have been run in our elmoutput directory will be displayed\n",
    "# Case names will contain the site codes:\n",
    "# AK-BEO; AK-CLG; AK-K64G AK-TLG\n",
    "\n",
    "display(cases_dropdown)"
   ]
  },
  {
   "cell_type": "code",
   "execution_count": null,
   "id": "74da44fd-c312-4dc8-9275-b8f4f4d5b9d1",
   "metadata": {},
   "outputs": [],
   "source": [
    "# Get the output nc file options\n",
    "\n",
    "output_casedir=output_rootdir+cases_dropdown.value+'/run/'\n",
    "filenames=numpy.asarray(glob.glob(\"%s*.elm.h?.*.nc\" % output_casedir))\n",
    "filenames=sorted([x.split('/')[-1] for x in filenames])\n",
    "if(os.path.exists(output_casedir+'ELM_output.nc')): filenames.insert(0,'ELM_output.nc')\n",
    "\n",
    "ncfiles_dropdown = widgets.Dropdown(options=filenames,\n",
    "                                description='Choose Output File:', \n",
    "                                style={'description_width':'auto'},\n",
    "                                layout={'width':'max-content'},\n",
    "                                disabled=False)"
   ]
  },
  {
   "cell_type": "code",
   "execution_count": null,
   "id": "55f0e578-b40c-4fef-b848-2e8041a52f17",
   "metadata": {},
   "outputs": [],
   "source": [
    "# Display the output nc file options - in most cases you will select ELM_output.nc\n",
    "\n",
    "display(ncfiles_dropdown)"
   ]
  },
  {
   "cell_type": "code",
   "execution_count": null,
   "id": "e3221987-2925-44c2-9348-e1ddfd762b9c",
   "metadata": {},
   "outputs": [],
   "source": [
    "# Set the output\n",
    "\n",
    "output_file=output_casedir+ncfiles_dropdown.value"
   ]
  },
  {
   "cell_type": "code",
   "execution_count": null,
   "id": "0612a8e4-9cfc-43c6-b8a5-94a602ba585e",
   "metadata": {},
   "outputs": [],
   "source": [
    "# Load model output data into xarray format. \n",
    "# squeeze removes an empty grid cell dimension assuming this is a single point run\n",
    "\n",
    "elm_output=xarray.open_dataset(output_file).squeeze()"
   ]
  },
  {
   "cell_type": "code",
   "execution_count": null,
   "id": "1aa3af2c-2d75-4d0b-aa10-290a4831724e",
   "metadata": {},
   "outputs": [],
   "source": [
    "# show the contents of elm_output\n",
    "\n",
    "print(elm_output)"
   ]
  },
  {
   "cell_type": "code",
   "execution_count": null,
   "id": "4b7819ac-558b-40d0-ab2b-1e8e25b7791a",
   "metadata": {},
   "outputs": [],
   "source": [
    "# GPP vs FSDS\n",
    "\n",
    "fsds = elm_output['FSDS']\n",
    "gpp = elm_output['GPP']\n",
    "\n",
    "fig, ax = plt.subplots(clear=True, figsize=(12,7))\n",
    "ax.scatter(fsds, gpp, s=10, c='blue')\n",
    "ax.set_title('GPP vs FSDS')\n",
    "plt.show()\n"
   ]
  },
  {
   "cell_type": "code",
   "execution_count": null,
   "id": "57fb337f-8000-4b26-a836-333efab6215d",
   "metadata": {},
   "outputs": [],
   "source": [
    "# EFLUX_LH_TOT vs FSDS\n",
    "\n",
    "X = elm_output['FSDS']\n",
    "Y = elm_output['EFLX_LH_TOT']\n",
    "\n",
    "fig, ax = plt.subplots(clear=True, figsize=(12,7))\n",
    "ax.scatter(X, Y, s=10, c='blue')\n",
    "ax.set_title('EFLX_LH_TOT vs FSDS')\n",
    "plt.show()"
   ]
  },
  {
   "cell_type": "code",
   "execution_count": null,
   "id": "569290da-7d3b-433d-a7bc-f467b8fe689e",
   "metadata": {},
   "outputs": [],
   "source": [
    "# QVEGT vs FSDS\n",
    "\n",
    "X = elm_output['FSDS']\n",
    "Y = elm_output['QVEGT']\n",
    "\n",
    "fig, ax = plt.subplots(clear=True, figsize=(12,7))\n",
    "ax.scatter(X, Y, s=10, c='blue')\n",
    "ax.set_title('QVEGT vs FSDS')\n",
    "plt.show()"
   ]
  },
  {
   "cell_type": "code",
   "execution_count": null,
   "id": "a399b097-7dcc-462f-83cc-7ffcbe0844e1",
   "metadata": {},
   "outputs": [],
   "source": [
    "# Derived variable:\n",
    "# Calculate all-sky albedo and plot the timeseries\n",
    "elm_output['ASA'] = elm_output['FSR']/elm_output['FSDS'].where(elm_output['FSDS']>0)\n",
    "elm_output['ASA'].attrs['units'] = 'unitless'\n",
    "elm_output['ASA'].attrs['long_name'] = 'All sky albedo'\n",
    "\n",
    "\n",
    "# Subset output to the 1980-1990 period\n",
    "timerange=slice('1980-01-01','1991-01-01')\n",
    "\n",
    "fig, ax = plt.subplots(clear=True, figsize=(12,7))\n",
    "elm_output['ASA'].sel(time=timerange).plot(ax=ax,linestyle='-',color='blue',label='All-sky Albedo')\n",
    "ax.legend()\n",
    "ax.set_title('All-sky Albedo')"
   ]
  },
  {
   "cell_type": "code",
   "execution_count": null,
   "id": "8f4f8a6d-20c5-4812-bcb2-4c0872198eca",
   "metadata": {},
   "outputs": [],
   "source": [
    "# Albedo and LAI plots\n",
    "fig,a=plt.subplots(nrows=1,ncols=2,clear=True,num='Radiation',figsize=(15,4))\n",
    "\n",
    "# Subset output to the 1980-1990 period\n",
    "timerange=slice('2005-01-01','2005-12-31')\n",
    "\n",
    "ax=a[0]\n",
    "elm_output['TLAI'].sel(time=timerange).plot(ax=ax,linestyle='-',color='black',label='Total LAI')\n",
    "ax.set(title='',xlabel='',ylabel='LAI (m2/m2)')\n",
    "ax.legend()\n",
    "\n",
    "ax=a[1]\n",
    "elm_output['ASA'].sel(time=timerange).plot(ax=ax,linestyle='-',color='blue',label='All-sky Albedo')\n",
    "ax.set(title='',xlabel='',ylabel='Albedo (-)')\n",
    "ax.legend()"
   ]
  },
  {
   "cell_type": "code",
   "execution_count": null,
   "id": "6c95908d-e08b-4468-9d88-29812ee367e5",
   "metadata": {},
   "outputs": [],
   "source": [
    "# GPP vs ASA\n",
    "\n",
    "X = elm_output['ASA']\n",
    "Y = elm_output['GPP']\n",
    "\n",
    "fig, ax = plt.subplots(clear=True, figsize=(12,7))\n",
    "ax.scatter(X, Y, s=10, c='blue')\n",
    "ax.set_title('GPP vs ASA')\n",
    "plt.show()"
   ]
  },
  {
   "cell_type": "code",
   "execution_count": null,
   "id": "31fb0c4b-840b-4f2c-8858-586feecfc442",
   "metadata": {},
   "outputs": [],
   "source": [
    "# GPP vs ASA\n",
    "# non-winter period\n",
    "\n",
    "X = elm_output['ASA'].where(elm_output['ASA']<0.2)\n",
    "Y = elm_output['GPP'].where(elm_output['ASA']<0.2)\n",
    "\n",
    "fig, ax = plt.subplots(clear=True, figsize=(12,7))\n",
    "ax.scatter(X, Y, s=10, c='blue')\n",
    "ax.set_title('GPP vs ASA')\n",
    "plt.show()"
   ]
  },
  {
   "cell_type": "code",
   "execution_count": null,
   "id": "1a91d6bb-03b6-4592-aaee-a84a7c205a60",
   "metadata": {},
   "outputs": [],
   "source": [
    "# LAI vs ASA\n",
    "\n",
    "\n",
    "X = elm_output['ASA']\n",
    "Y = elm_output['TLAI']\n",
    "\n",
    "fig, ax = plt.subplots(clear=True, figsize=(12,7))\n",
    "ax.scatter(X, Y, s=10, c='blue')\n",
    "ax.set_title('LAI vs ASA')\n",
    "plt.show()"
   ]
  },
  {
   "cell_type": "code",
   "execution_count": null,
   "id": "f16c14d0-1050-41fa-992f-02f0eb4bec28",
   "metadata": {},
   "outputs": [],
   "source": []
  },
  {
   "cell_type": "code",
   "execution_count": null,
   "id": "d2a57b7c-b918-4bf3-936f-5d5403c19456",
   "metadata": {},
   "outputs": [],
   "source": []
  }
 ],
 "metadata": {
  "kernelspec": {
   "display_name": "Python 3 (ipykernel)",
   "language": "python",
   "name": "python3"
  },
  "language_info": {
   "codemirror_mode": {
    "name": "ipython",
    "version": 3
   },
   "file_extension": ".py",
   "mimetype": "text/x-python",
   "name": "python",
   "nbconvert_exporter": "python",
   "pygments_lexer": "ipython3",
   "version": "3.12.8"
  }
 },
 "nbformat": 4,
 "nbformat_minor": 5
}
