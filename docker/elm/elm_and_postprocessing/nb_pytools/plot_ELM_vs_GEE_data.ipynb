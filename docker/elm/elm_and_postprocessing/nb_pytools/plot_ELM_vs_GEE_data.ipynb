{
 "cells": [
  {
   "cell_type": "markdown",
   "id": "f436cb4e-9061-4f16-a8db-e6acf0186254",
   "metadata": {},
   "source": [
    "<center><img src=\"https://github.com/FASSt-simulation/fasst_simulation_tools/raw/main/images/site-logo.png\" width=150 height=150 alt=\"NGEE-Arctic Logo\"/></center>\n",
    "\n",
    "# Tutorial: *Evaluating ELM fluxes using remote sensing imagery from Google Earth Engine*\n",
    "This tutorial explores the radiation components of ELM simulations at one of the four [NGEE-Arctic](https://ngee-arctic.ornl.gov/) study sites.\n"
   ]
  },
  {
   "cell_type": "markdown",
   "id": "0a3adddf-5a9a-4672-befe-25494a9d3381",
   "metadata": {},
   "source": [
    "#### ----------------------------------------------------------------------------------------------------------------------\n",
    "\n",
    "<br>\n",
    "\n",
    "#### To run this script and generate the resulting ELM plots we need specific Python libraries.  This step loads those required libraries"
   ]
  },
  {
   "cell_type": "code",
   "execution_count": null,
   "id": "959fabc3-5f20-4ed0-9a81-02a00613f0fe",
   "metadata": {},
   "outputs": [],
   "source": [
    "# setup modules\n",
    "import matplotlib.pyplot as plt\n",
    "import matplotlib as mpl\n",
    "import pandas as pd\n",
    "import numpy as np\n",
    "import xarray\n",
    "from netCDF4 import Dataset \n",
    "import os\n",
    "import cftime\n",
    "from datetime import datetime as dt\n",
    "import ipywidgets as widgets\n",
    "import sys,os,os.path,glob\n",
    "\n",
    "# spatial modules\n",
    "import ee\n",
    "import geemap.colormaps as cm\n",
    "import geemap.foliumap as geemap\n",
    "    \n",
    "import warnings\n",
    "warnings.filterwarnings('ignore') #don't display warnings"
   ]
  },
  {
   "cell_type": "markdown",
   "id": "dddca708-052b-4919-bf76-b85f7f2b8bd5",
   "metadata": {},
   "source": [
    "<br>\n",
    "\n",
    "#### This step creates a temporary folder location to store figures that are created in this notebook.  You can later download these figures to your host computer"
   ]
  },
  {
   "cell_type": "code",
   "execution_count": null,
   "id": "50a3c41e-a66b-4b9e-976b-8571b4a4dca3",
   "metadata": {},
   "outputs": [],
   "source": [
    "## setup output. defined dir or system temp dir\n",
    "figdir=os.path.expanduser(os.path.join('~','work/figures'))\n",
    "\n",
    "if not os.path.exists(figdir):\n",
    "    os.makedirs(figdir)\n",
    "\n",
    "print(\" \")\n",
    "print(\"****** Temporary Output Folder ******\")\n",
    "print(figdir)\n",
    "\n",
    "savefigs = True # True/False"
   ]
  },
  {
   "cell_type": "markdown",
   "id": "f5f80844-0cde-4b48-afe3-a2333c03eb7f",
   "metadata": {},
   "source": [
    "<br>\n",
    "\n",
    "#### To use the GEE layers you need to have a GEE account and authenticate your API before proceeding"
   ]
  },
  {
   "cell_type": "code",
   "execution_count": null,
   "id": "91b4c7e1-b969-4b2d-98b3-3e3a535de6c3",
   "metadata": {},
   "outputs": [],
   "source": [
    "##### initialize ee API  - you need to authenticate with GEE and initialize\n",
    "\n",
    "## Trigger the authentication flow. You only need to do this once while running notebook\n",
    "ee.Authenticate()\n",
    "\n",
    "## After inserting the API key initialize GEE\n",
    "ee.Initialize()"
   ]
  },
  {
   "cell_type": "markdown",
   "id": "72cdab78-f510-41b1-8bc8-713de679f5f2",
   "metadata": {},
   "source": [
    "<br>\n",
    "\n",
    "#### This step identifies all of the previous ELM cases that are stored in your output location then creates a list to select the output by site"
   ]
  },
  {
   "cell_type": "code",
   "execution_count": null,
   "id": "b245305a-0616-437f-9da2-02bc2f2ddef8",
   "metadata": {},
   "outputs": [],
   "source": [
    "# Create case run output directories\n",
    "output_rootdir=os.path.expanduser('~')+'/output/cime_run_dirs/'\n",
    "cases=np.asarray(glob.glob(\"%s*20TR*\" % output_rootdir))\n",
    "cases=[x.split('/')[-1] for x in cases]\n",
    "cases_dropdown = widgets.Dropdown(options=cases,\n",
    "                                description='Choose Case Name:',\n",
    "                                style={'description_width':'auto'},\n",
    "                                layout={'width':'max-content'},\n",
    "                                disabled=False)"
   ]
  },
  {
   "cell_type": "markdown",
   "id": "807d926b-2932-47c9-95ea-39f0ee1f80dd",
   "metadata": {},
   "source": [
    "<br>\n",
    "\n",
    "#### Here we create the dropdown menu of ELM output options availible in your output volume"
   ]
  },
  {
   "cell_type": "code",
   "execution_count": null,
   "id": "fd31ac54-19f7-49ac-b348-e096fb41fc9a",
   "metadata": {},
   "outputs": [],
   "source": [
    "# Show a dropdown menu to select specific case output\n",
    "# Any cases that have been run in our elmoutput directory will be displayed\n",
    "# Case names will contain the site codes:\n",
    "# AK-BEO; AK-CLG; AK-K64G AK-TLG\n",
    "\n",
    "display(cases_dropdown)"
   ]
  },
  {
   "cell_type": "markdown",
   "id": "b76d46ee-00c8-4115-81cb-fc77fe98d999",
   "metadata": {},
   "source": [
    "<br>\n",
    "\n",
    "#### After selecting which ELM output folder we want to use as our source for simulation output, we can then find all .nc files in the output location"
   ]
  },
  {
   "cell_type": "code",
   "execution_count": null,
   "id": "4e5b35d0-76e9-4f69-985c-a06bfa4169bd",
   "metadata": {},
   "outputs": [],
   "source": [
    "# Get the output nc file options\n",
    "output_casedir=output_rootdir+cases_dropdown.value+'/run/'\n",
    "filenames=np.asarray(glob.glob(\"%s*.elm.h?.*.nc\" % output_casedir))\n",
    "filenames=sorted([x.split('/')[-1] for x in filenames])\n",
    "if(os.path.exists(output_casedir+'ELM_output.nc')): filenames.insert(0,'ELM_output.nc')\n",
    "\n",
    "ncfiles_dropdown = widgets.Dropdown(options=filenames,\n",
    "                                description='Choose Output File:', \n",
    "                                style={'description_width':'auto'},\n",
    "                                layout={'width':'max-content'},\n",
    "                                disabled=False)"
   ]
  },
  {
   "cell_type": "markdown",
   "id": "ad79f477-9c92-4db1-96be-327f3639fad8",
   "metadata": {},
   "source": [
    "<br>\n",
    "\n",
    "#### This step displays the .nc file dropdown menu. In most cases you will select \"ELM_output.nc\" which is the file containing all simulation output years (e.g. 1850-2014)"
   ]
  },
  {
   "cell_type": "code",
   "execution_count": null,
   "id": "c8ef62c1-b67e-4816-bdc9-e8bfd7d6bef4",
   "metadata": {},
   "outputs": [],
   "source": [
    "# Display the output nc file options - in most cases you will select ELM_output.nc\n",
    "\n",
    "display(ncfiles_dropdown)"
   ]
  },
  {
   "cell_type": "markdown",
   "id": "d543ef0c-86da-41f7-846d-b20138cb5d7d",
   "metadata": {},
   "source": [
    "<br>\n",
    "\n",
    "#### This step uses the xarray package to load the ELM output so that we can analyze the results and generate plots"
   ]
  },
  {
   "cell_type": "code",
   "execution_count": null,
   "id": "bbc6d57d-2cbf-4679-8155-8de870db2bd0",
   "metadata": {},
   "outputs": [],
   "source": [
    "# Load model output data into xarray format. \n",
    "# squeeze removes an empty grid cell dimension assuming this is a single point run\n",
    "output_file=output_casedir+ncfiles_dropdown.value\n",
    "elm_output=xarray.open_dataset(output_file).squeeze()\n",
    "temptime = elm_output.indexes['time'].to_datetimeindex()\n",
    "elm_output['time'] = temptime"
   ]
  },
  {
   "cell_type": "markdown",
   "id": "77e51f93-9f6e-468a-8ae1-9589bac0dffd",
   "metadata": {},
   "source": [
    "<br>\n",
    "\n",
    "#### We can quickly display a subset of the nc file metadata here using the print() command\n",
    "\n",
    "#### Note that on the left is the name of the data dimension or variable and on the right shows the data type and other metadata"
   ]
  },
  {
   "cell_type": "code",
   "execution_count": null,
   "id": "ee21b871-0674-4413-9d02-90d0d324bba5",
   "metadata": {},
   "outputs": [],
   "source": [
    "# show the contents of elm_output\n",
    "\n",
    "print(elm_output)"
   ]
  },
  {
   "cell_type": "markdown",
   "id": "2dd69377-dbca-4453-9395-484fd35cd7a6",
   "metadata": {},
   "source": [
    "<br>\n",
    "\n",
    "#### Lets get the specific lat/long of the model simulation to use with extracting remote sensing data"
   ]
  },
  {
   "cell_type": "code",
   "execution_count": null,
   "id": "18b105be-1410-4346-936f-c3b1efb981df",
   "metadata": {},
   "outputs": [],
   "source": [
    "print(elm_output['lon'],elm_output['lat'])\n",
    "lat=elm_output['lat'].values.item()\n",
    "lon=elm_output['lon'].values.item()\n",
    "print(lat,lon)"
   ]
  },
  {
   "cell_type": "markdown",
   "id": "1690a81f-b3c4-494d-8c94-458297e888c4",
   "metadata": {},
   "source": [
    "<br>\n",
    "\n",
    "#### You will see the lat/long location is inaccurate given the resolution of the global ELM inputs. Instead lets set a more accurate location of the study site based on the list below.  Copy and paste the updated lat and long values below based on which site you are analyzing\n",
    "\n",
    "AK-BEOG (Utqiagvik): 71.281054, -156.615273 <br>\n",
    "AK-CLG (Council): 64.854151, -163.726455 <br>\n",
    "AK-K64G (Kougarok): 65.163724, -164.817472 <br>\n",
    "AK-TLG (Teller): 64.732523, -165.952788 <br>"
   ]
  },
  {
   "cell_type": "code",
   "execution_count": null,
   "id": "e4d3f982-9e03-4495-8a2c-5ab4eec62bab",
   "metadata": {},
   "outputs": [],
   "source": [
    "# set the desired lat/long here (copy and paste the lat/longs)\n",
    "lat=64.732523\n",
    "lon=-165.952788"
   ]
  },
  {
   "cell_type": "markdown",
   "id": "559f1a43-dca7-442d-bce9-0768a6c8c0b8",
   "metadata": {},
   "source": [
    "<br>\n",
    "\n",
    "#### Lets get some imagery from GEE. In this case we will make an NDVI map with the site location shown as a black dot"
   ]
  },
  {
   "cell_type": "code",
   "execution_count": null,
   "id": "3c785688-8b5c-4b39-834b-a975d10b192f",
   "metadata": {},
   "outputs": [],
   "source": [
    "##### Get Landsat 8 NDVI max data\n",
    "l8 = ee.ImageCollection('LANDSAT/LC08/C01/T1_8DAY_NDVI').filterDate('2019-07-01', '2019-09-05')\n",
    "l8_ndvi = l8.select('NDVI');\n",
    "\n",
    "# Composite and drop values == 1\n",
    "l8_maxval_ndvi_composite = l8_ndvi.max()\n",
    "l8mask = l8_maxval_ndvi_composite.lt(1)\n",
    "l8_maxval_ndvi_composite = l8_maxval_ndvi_composite.updateMask(l8mask)"
   ]
  },
  {
   "cell_type": "code",
   "execution_count": null,
   "id": "5dc61749-8a3f-4d33-ac7a-0260fb533be0",
   "metadata": {},
   "outputs": [],
   "source": [
    "# Create an NDVI map w/ the site location\n",
    "\n",
    "# site lat/long\n",
    "point = ee.Geometry.Point(lon, lat);\n",
    "\n",
    "ndvi_palette = cm.palettes.viridis\n",
    "ndviViz = {'min': 0.0, 'max': 0.9, 'palette': ndvi_palette, 'opacity': 1}\n",
    "l8_ndvi_map = geemap.Map(center=[lat,lon], zoom=10);\n",
    "l8_ndvi_map.addLayer(l8_maxval_ndvi_composite, ndviViz, 'Max NDVI')\n",
    "l8_ndvi_map.addLayer(point,{'color': 'black'},'Geometry [black]: point');\n",
    "l8_ndvi_map.add_colorbar(vis_params=ndviViz, label='Landsat 8 NDVI (-)')\n",
    "l8_ndvi_map"
   ]
  },
  {
   "cell_type": "markdown",
   "id": "a73d5282-1beb-41f1-8ec9-2e3205293980",
   "metadata": {},
   "source": [
    "<br>\n",
    "\n",
    "#### Before we move on, lets setup a function to extract a timeseries dataset from a specific lat/long location"
   ]
  },
  {
   "cell_type": "code",
   "execution_count": null,
   "id": "bb5e1b02-c1cc-4799-831c-9ff9b6e37aaf",
   "metadata": {},
   "outputs": [],
   "source": [
    "def extract_time_series(lat, lon, start, end, product_name, band_name, sf):\n",
    "\n",
    "    # Set up point geometry\n",
    "    point = ee.Geometry.Point(lon, lat)\n",
    "\n",
    "    # Obtain image collection for all images within query dates\n",
    "    coll = ee.ImageCollection(product_name)\\\n",
    "        .filterDate(start, end)\n",
    "\n",
    "    # Get list of images which correspond with the above\n",
    "    images = [item.get('id') for item in coll.getInfo().get('features')]\n",
    "\n",
    "    store = []\n",
    "    date_store = []\n",
    "\n",
    "    # Loop over all images and extract pixel value\n",
    "    for image in images:\n",
    "\n",
    "        im = ee.Image(image)\n",
    "        projection = im.projection().getInfo()['crs']\n",
    "\n",
    "        # Obtain date from timestamp in metadata\n",
    "        date = dt.fromtimestamp(im.get(\"system:time_start\").getInfo() / 1000.)\n",
    "        date_store.append(np.datetime64(date))\n",
    "\n",
    "        # Extract pixel value\n",
    "        data = im.select(band_name)\\\n",
    "        .reduceRegion(ee.Reducer.first(),\n",
    "                      point,\n",
    "                      1,\n",
    "                      crs=projection)\\\n",
    "        .get(band_name)\n",
    "        \n",
    "        store.append(data.getInfo())\n",
    "\n",
    "    # Scale the returned data based on scale factor\n",
    "    store = [x * sf if isinstance(x, int) else np.nan for x in store]\n",
    "\n",
    "    # Convert output into pandas data frame\n",
    "    df = pd.DataFrame(index=date_store, data=store, columns=[band_name])\n",
    "\n",
    "    return df"
   ]
  },
  {
   "cell_type": "markdown",
   "id": "5cf174a6-9e63-4fd0-87a1-f48c33e80dc5",
   "metadata": {},
   "source": [
    "<br>\n",
    "\n",
    "#### Lets extract a timeseries of LAI data for the study site"
   ]
  },
  {
   "cell_type": "code",
   "execution_count": null,
   "id": "a25f2265-900f-4b14-93d1-cc82201e24b8",
   "metadata": {},
   "outputs": [],
   "source": [
    "# Run the extract function\n",
    "latitude = lat\n",
    "longitude = lon\n",
    "start_date = '2010-01-01'\n",
    "end_date = '2014-12-31'\n",
    "product = 'MODIS/061/MOD15A2H' \n",
    "#LAI scale factor: 0.1\n",
    "#FPAR scale factor: 0.01\n",
    "#https://developers.google.com/earth-engine/datasets/catalog/MODIS_061_MOD15A2H\n",
    "\n",
    "# Extract data and obtain pd.DataFrame\n",
    "band = 'Lai_500m'\n",
    "scale_factor = 0.1\n",
    "modis_lai = extract_time_series(latitude,longitude,start_date,end_date,product,band,scale_factor)\n",
    "\n",
    "band = 'Fpar_500m'\n",
    "scale_factor = 0.01\n",
    "modis_fpar = extract_time_series(latitude,longitude,start_date,end_date,product,band,scale_factor)\n",
    "\n",
    "\n",
    "# !!! should also extract SDs and plot as a shaded region\n",
    "#FparStdDev_500m\n",
    "#Standard deviation of FPAR\n",
    "\n",
    "#LaiStdDev_500m\n",
    "#Standard deviation of LAI"
   ]
  },
  {
   "cell_type": "markdown",
   "id": "037c813a-62f2-40c4-a3e7-5d5d355d2180",
   "metadata": {},
   "source": [
    "<br>\n",
    "\n",
    "#### Lets look at the data that is returned from the extract function"
   ]
  },
  {
   "cell_type": "code",
   "execution_count": null,
   "id": "b31a6ec5-3ee5-4786-bf34-fcf2bfbe855f",
   "metadata": {},
   "outputs": [],
   "source": [
    "modis_lai.head()"
   ]
  },
  {
   "cell_type": "code",
   "execution_count": null,
   "id": "5976e5c9-73b6-4864-abe3-4e2b01ea23ff",
   "metadata": {},
   "outputs": [],
   "source": [
    "modis_fpar.head()"
   ]
  },
  {
   "cell_type": "markdown",
   "id": "20be96de-0b1e-4d74-a0f4-cda86dce4d0f",
   "metadata": {},
   "source": [
    "<br>\n",
    "\n",
    "#### Lets plot the MODIS LAI and FPAR datasets for the selected years"
   ]
  },
  {
   "cell_type": "code",
   "execution_count": null,
   "id": "5e7953b0-3268-4192-8022-7e202cdfc681",
   "metadata": {},
   "outputs": [],
   "source": [
    "#### Plot the LAI and FPAR data\n",
    "\n",
    "fig = plt.figure(figsize=(19, 6))\n",
    "ax = fig.add_subplot(1, 2, 1)\n",
    "modis_lai.where(modis_lai['Lai_500m']<12).plot(ax=ax, kind='line',linewidth=2,color='black')\n",
    "ax.get_legend().remove()\n",
    "plt.xticks(fontsize=20, rotation=0, horizontalalignment='center')\n",
    "plt.yticks(fontsize=20, rotation=0)\n",
    "ax.set_title('MODIS LAI', size=24)\n",
    "ax.set_xlabel('Date', size=24)\n",
    "ax.set_ylabel('LAI (m$^{2}$ m$^{-2}$)', size=24)\n",
    "\n",
    "ax = fig.add_subplot(1, 2, 2)\n",
    "modis_fpar.where(modis_fpar['Fpar_500m']<1).plot(ax=ax, kind='line',linewidth=2,color='black')\n",
    "ax.get_legend().remove()\n",
    "plt.xticks(fontsize=20, rotation=0, horizontalalignment='center')\n",
    "plt.yticks(fontsize=20, rotation=0)\n",
    "ax.set_title('MODIS FPAR', size=24)\n",
    "ax.set_xlabel('Date', size=24)\n",
    "ax.set_ylabel('MODIS FPAR (-)', size=24)\n",
    "if savefigs:\n",
    "    plt.savefig(os.path.join(figdir,'MODIS_LAI_FPAR.pdf'))\n",
    "    plt.savefig(os.path.join(figdir,'MODIS_LAI_FPAR.png'))\n",
    "plt.show()"
   ]
  },
  {
   "cell_type": "code",
   "execution_count": null,
   "id": "3a506075-4d82-41c7-8a47-fe9568d4f009",
   "metadata": {},
   "outputs": [],
   "source": [
    "timerange=slice('2010-01-01','2014-12-31')\n",
    "\n",
    "fig = plt.figure(figsize=(20, 8))\n",
    "ax = fig.add_subplot(1, 1, 1)\n",
    "modis_lai['Lai_500m'].where(modis_lai['Lai_500m']<12).plot(ax=ax,linestyle='-',linewidth=2,color='black',label='MODIS LAI')\n",
    "elm_output['TLAI'].sel(time=timerange).plot(ax=ax, linestyle='-',linewidth=4,color='green',label='ELM TLAI')\n",
    "ax.legend(fontsize=17)\n",
    "plt.xticks(fontsize=20, rotation=0, horizontalalignment='center')\n",
    "plt.yticks(fontsize=20, rotation=0)\n",
    "ax.set_title('LAI: 2010-2014', size=18)\n",
    "ax.set_xlabel('Date', size=24)\n",
    "ax.set_ylabel('LAI (m$^{2}$ m$^{-2}$)', size=24)\n",
    "if savefigs:\n",
    "    plt.savefig(os.path.join(figdir,'ELM_vs_MODIS_LAI_2.pdf'))\n",
    "    plt.savefig(os.path.join(figdir,'ELM_vs_MODIS_LAI_2.png'))\n",
    "plt.show()"
   ]
  },
  {
   "cell_type": "markdown",
   "id": "345079d3-a33a-40ee-b384-45b50b0ad0ca",
   "metadata": {},
   "source": [
    "<br>\n",
    "\n",
    "#### Lets extract a timeseries of Gross Primary Productivity (GPP) data for the study site"
   ]
  },
  {
   "cell_type": "code",
   "execution_count": null,
   "id": "8fd61479-3476-409a-8542-036457993bf1",
   "metadata": {},
   "outputs": [],
   "source": [
    "# Run the extract function\n",
    "latitude = lat\n",
    "longitude = lon\n",
    "start_date = '2010-01-01'\n",
    "end_date = '2014-12-31'\n",
    "product = 'MODIS/006/MOD17A2H' \n",
    "\n",
    "# Extract data and obtain pd.DataFrame\n",
    "band = 'Gpp'\n",
    "scale_factor = 0.0001\n",
    "modis_gpp = extract_time_series(latitude,longitude,start_date,end_date,product,band,scale_factor)"
   ]
  },
  {
   "cell_type": "markdown",
   "id": "6b4205e3-9618-4d1e-b5c7-7b210ed19a89",
   "metadata": {},
   "source": [
    "<br>\n",
    "\n",
    "#### Now we can create a figure to compare ELM GPP vs MODIS GPP retrievals for the study site"
   ]
  },
  {
   "cell_type": "code",
   "execution_count": null,
   "id": "4ced79d0-5d61-4f64-bebb-ac4db99de4a8",
   "metadata": {},
   "outputs": [],
   "source": [
    "timerange=slice('2010-01-01','2014-12-31')\n",
    "\n",
    "fig = plt.figure(figsize=(16, 8))\n",
    "ax = fig.add_subplot(1, 1, 1)\n",
    "# need to convert ELM from gC/m^2/s to kgC/m2/8days\n",
    "tempgppdata = (elm_output['GPP'])*86400\n",
    "tempgppdata.sel(time=timerange).plot(ax=ax, linestyle='-',linewidth=2,color='black',label='ELM GPP')\n",
    "temp_modis_gpp = np.divide(modis_gpp['Gpp']*1000, 8)\n",
    "temp_modis_gpp.plot(ax=ax,linestyle='-',linewidth=2,color='green',label='MODIS GPP')\n",
    "ax.legend(fontsize=15)\n",
    "plt.xticks(fontsize=20, rotation=0, horizontalalignment='center')\n",
    "plt.yticks(fontsize=20, rotation=0)\n",
    "ax.set_title('GPP: 2010-2014', size=20)\n",
    "ax.set_xlabel('Year', size=24)\n",
    "ax.set_ylabel('C flux (gC m$^{-2}$ day$^{-1}$)', size=24)\n",
    "if savefigs:\n",
    "    plt.savefig(os.path.join(figdir,'ELM_vs_MODIS_GPP.pdf'))\n",
    "    plt.savefig(os.path.join(figdir,'ELM_vs_MODIS_GPP.png'))\n",
    "plt.show()"
   ]
  },
  {
   "cell_type": "markdown",
   "id": "9d7faa5e-b41a-408c-8bd9-386d84296f5c",
   "metadata": {},
   "source": [
    "<br>\n",
    "\n",
    "#### We can also extract a timeseries of Net Primary Productivity (NPP) data for the study site"
   ]
  },
  {
   "cell_type": "code",
   "execution_count": null,
   "id": "0b15d748-826f-46ee-a7e4-4510b0382079",
   "metadata": {},
   "outputs": [],
   "source": [
    "# Run the extract function\n",
    "latitude = lat\n",
    "longitude = lon\n",
    "start_date = '2000-01-01'\n",
    "end_date = '2014-12-31'\n",
    "product = 'MODIS/006/MOD17A3HGF' \n",
    "\n",
    "# Extract data and obtain pd.DataFrame\n",
    "band = 'Npp'\n",
    "scale_factor = 0.0001\n",
    "modis_npp = extract_time_series(latitude,longitude,start_date,end_date,product,band,scale_factor)"
   ]
  },
  {
   "cell_type": "code",
   "execution_count": null,
   "id": "df33d691-1358-4070-be7a-0599431d1777",
   "metadata": {},
   "outputs": [],
   "source": [
    "print(modis_npp['Npp'])"
   ]
  },
  {
   "cell_type": "markdown",
   "id": "e2e27617-31eb-4c67-8888-f0e9574e1462",
   "metadata": {},
   "source": [
    "<br>\n",
    "\n",
    "#### Before we compare ELM to the MODIS NPP product, we will need to scale the units to match. As you can see below, NPP in ELM is currently a flux (gC/m2/2)"
   ]
  },
  {
   "cell_type": "code",
   "execution_count": null,
   "id": "12878650-e7d6-4835-8785-f7181879cccb",
   "metadata": {},
   "outputs": [],
   "source": [
    "elm_output['NPP']"
   ]
  },
  {
   "cell_type": "markdown",
   "id": "32d9afae-5c77-4217-9766-61f949e882b9",
   "metadata": {},
   "source": [
    "<br>\n",
    "\n",
    "#### Here we can select out an overlapping date range and then convert ELM from a flux to a pool"
   ]
  },
  {
   "cell_type": "code",
   "execution_count": null,
   "id": "48b19ca2-c2db-4518-a4de-eb15d0d3b965",
   "metadata": {},
   "outputs": [],
   "source": [
    "# subset and convert from gC/m2/s to kgC/m2/day\n",
    "dataset_sub = elm_output.sel(time=slice('1999', '2013'))\n",
    "# calculate annual sum (i.e. annual total NPP)\n",
    "elm_annual_npp = (dataset_sub['NPP']*0.001*86400).resample(time='Y').sum('time')"
   ]
  },
  {
   "cell_type": "markdown",
   "id": "542fd706-8096-4cc1-ab17-4b3a89a53395",
   "metadata": {},
   "source": [
    "<br>\n",
    "\n",
    "#### Now we can create the figure"
   ]
  },
  {
   "cell_type": "code",
   "execution_count": null,
   "id": "11d3ce92-d6b1-4a55-bb00-0febff60f10d",
   "metadata": {},
   "outputs": [],
   "source": [
    "# Draw the comparison plot between MODIS and ELM annual NPP\n",
    "fig = plt.figure(figsize=(16, 8))\n",
    "ax = fig.add_subplot(1, 1, 1)\n",
    "elm_annual_npp.plot(ax=ax, linestyle='-',linewidth=5,color='black',label='ELM NPP')\n",
    "modis_npp['Npp'].plot(ax=ax,linestyle='-',linewidth=5,color='green',label='MODIS NPP')\n",
    "ax.legend(fontsize=16)\n",
    "plt.xticks(fontsize=20, rotation=0, horizontalalignment='center')\n",
    "plt.yticks(fontsize=20, rotation=0)\n",
    "ax.set_title('NPP: 2000-2014', size=20)\n",
    "ax.set_xlabel('Date', size=24)\n",
    "ax.set_ylabel('NPP (kg C m$^{-2}$)', size=24)\n",
    "if savefigs:\n",
    "    plt.savefig(os.path.join(figdir,'ELM_vs_MODIS_Annual_NPP.pdf'))\n",
    "    plt.savefig(os.path.join(figdir,'ELM_vs_MODIS_Annual_NPP.png'))\n",
    "plt.show()"
   ]
  },
  {
   "cell_type": "markdown",
   "id": "1599afc7-6dc3-4d56-96e7-5f2c585a026f",
   "metadata": {},
   "source": [
    "<br>\n",
    "\n",
    "#### Create a X-Y scatter plot of the annual NPP comparison between MODIS and ELM"
   ]
  },
  {
   "cell_type": "code",
   "execution_count": null,
   "id": "ce8afda3-554f-4684-a832-b11ef895c03b",
   "metadata": {},
   "outputs": [],
   "source": [
    "fig = plt.figure(figsize=(12, 8))\n",
    "ax = fig.add_subplot(1, 1, 1)\n",
    "\n",
    "plt.scatter(elm_annual_npp, modis_npp['Npp'], c=\"black\", s=500)\n",
    "ax.set_ylim([0.0, 0.55])\n",
    "ax.set_xlim([0.0, 0.55])\n",
    "plt.xticks(fontsize=20, rotation=0, horizontalalignment='center')\n",
    "plt.yticks(fontsize=20, rotation=0)\n",
    "ax.plot([0,1],[0,1], transform=ax.transAxes, linestyle='--', color='black')\n",
    "ax.set_xlabel('ELM NPP (kg C m$^{-2}$)', size=20)\n",
    "ax.set_ylabel('MODIS NPP (kg C m$^{-2}$)', size=20)\n",
    "if savefigs:\n",
    "    plt.savefig(os.path.join(figdir,'ELM_vs_MODIS_Annual_NPP_scatter.pdf'))\n",
    "    plt.savefig(os.path.join(figdir,'ELM_vs_MODIS_Annual_NPP_scatter.png'))\n",
    "plt.show()"
   ]
  },
  {
   "cell_type": "markdown",
   "id": "ba6a02b1-c48b-47b2-8cbf-ccc7048f8dc2",
   "metadata": {},
   "source": [
    "<br>\n",
    "\n",
    "#### We can also compare the annual NPP distributions in a histogram plot"
   ]
  },
  {
   "cell_type": "code",
   "execution_count": null,
   "id": "3fa930fb-0086-49f7-bf09-d319f5c9f0cb",
   "metadata": {},
   "outputs": [],
   "source": [
    "fig = plt.figure(figsize=(16, 8))\n",
    "plt.hist(elm_annual_npp, alpha=0.5, label='ELM NPP', histtype='bar')\n",
    "n, bins, patches = plt.hist(modis_npp['Npp'], alpha=0.5, label='MODIS NPP', histtype='bar')\n",
    "plt.legend(fontsize=15)\n",
    "plt.xlabel('NPP (kg C m$^{-2}$)', size=20)\n",
    "plt.ylabel('Count', size=20)\n",
    "plt.xticks(fontsize=16, rotation=0, horizontalalignment='center')\n",
    "plt.yticks(fontsize=16, rotation=0)\n",
    "if savefigs:\n",
    "    plt.savefig(os.path.join(figdir,'ELM_vs_MODIS_Annual_NPP_histogram.pdf'))\n",
    "    plt.savefig(os.path.join(figdir,'ELM_vs_MODIS_Annual_NPP_histogram.png'))\n",
    "plt.show()"
   ]
  },
  {
   "cell_type": "markdown",
   "id": "7616cf98-1a5b-4baf-bfa4-4a11237f8491",
   "metadata": {},
   "source": [
    "<br>\n",
    "\n",
    "#### Derived variable example: Surface Albedo\n",
    "\n",
    "Using ELM outputs, we can also derive new variables from standard model outputs.  We can calculate the surface albedo estiamted by ELM.  To do that we can calculate direct/diffuse, visible and near-infrared as well as full-sky (all-sky) albedo using the outputs availible in ELM.  In this case we will use the FSDS and FSR outputs to calculate surface reflectivity (i.e. albedo) from the ratio of reflected (FSR) to total incident radiation (FSDS)"
   ]
  },
  {
   "cell_type": "code",
   "execution_count": null,
   "id": "62d94788-6061-4eee-85d9-4fd4051ed80b",
   "metadata": {},
   "outputs": [],
   "source": [
    "# Calculate direct VIS albedo\n",
    "elm_output['BSA_VIS'] = elm_output['FSRVD']/elm_output['FSDSVD'].where(elm_output['FSDSVD']>0)\n",
    "elm_output['BSA_VIS'].attrs['units'] = 'unitless'\n",
    "elm_output['BSA_VIS'].attrs['long_name'] = 'Black Sky Visible Albedo'\n",
    "\n",
    "# Calculate direct NIR albedo\n",
    "elm_output['BSA_NIR'] = elm_output['FSRND']/elm_output['FSDSND'].where(elm_output['FSDSND']>0)\n",
    "elm_output['BSA_NIR'].attrs['units'] = 'unitless'\n",
    "elm_output['BSA_NIR'].attrs['long_name'] = 'Black Sky NIR Albedo'\n",
    "\n",
    "# Calculate all-sky albedo and plot the timeseries\n",
    "elm_output['ASA'] = elm_output['FSR']/elm_output['FSDS'].where(elm_output['FSDS']>0)\n",
    "elm_output['ASA'].attrs['units'] = 'unitless'\n",
    "elm_output['ASA'].attrs['long_name'] = 'All sky albedo'"
   ]
  },
  {
   "cell_type": "markdown",
   "id": "16abe953-e2ad-45ee-ab9c-0a242ba08e31",
   "metadata": {},
   "source": [
    "<br>\n",
    "\n",
    "#### Download MODIS albedo (direct, diffuse, VIS and NIR)"
   ]
  },
  {
   "cell_type": "code",
   "execution_count": null,
   "id": "2c7db81e-48a9-49d2-bcd0-8b22d523aecf",
   "metadata": {},
   "outputs": [],
   "source": [
    "# Run the extract function\n",
    "latitude = lat\n",
    "longitude = lon\n",
    "start_date = '2012-01-01'\n",
    "end_date = '2012-12-31'\n",
    "product = 'MODIS/006/MCD43A3' \n",
    "\n",
    "# Extract data and obtain pd.DataFrame\n",
    "band = 'Albedo_BSA_vis'\n",
    "scale_factor = 0.001\n",
    "modis_bsa_vis = extract_time_series(latitude,longitude,start_date,end_date,product,band,scale_factor)\n",
    "\n",
    "band = 'Albedo_BSA_nir'\n",
    "scale_factor = 0.001\n",
    "modis_bsa_nir = extract_time_series(latitude,longitude,start_date,end_date,product,band,scale_factor)\n",
    "\n",
    "band = 'Albedo_BSA_shortwave'\n",
    "scale_factor = 0.001\n",
    "modis_bsa_short = extract_time_series(latitude,longitude,start_date,end_date,product,band,scale_factor)"
   ]
  },
  {
   "cell_type": "markdown",
   "id": "5061a8f7-0f86-482e-98eb-a06ca5bc45c1",
   "metadata": {},
   "source": [
    "<br>\n",
    "\n",
    "#### Create comparison plot of Black Sky Visible Albedo (BSA_VIS)"
   ]
  },
  {
   "cell_type": "code",
   "execution_count": null,
   "id": "ff4d39c9-5ff3-49ac-bb37-72fe27dd624e",
   "metadata": {},
   "outputs": [],
   "source": [
    "timerange=slice('2012-01-01','2012-12-31')\n",
    "\n",
    "fig = plt.figure(figsize=(16, 8))\n",
    "ax = fig.add_subplot(1, 1, 1)\n",
    "elm_output['BSA_VIS'].sel(time=timerange).plot(ax=ax, linestyle='-',linewidth=2.5,color='black',label='ELM VIS BSA')\n",
    "modis_bsa_vis['Albedo_BSA_vis'].plot(ax=ax,linestyle='-',linewidth=2.5,color='green',label='MODIS VIS BSA')\n",
    "ax.legend(fontsize=17)\n",
    "plt.xticks(fontsize=20, rotation=0, horizontalalignment='center')\n",
    "plt.yticks(fontsize=20, rotation=0)\n",
    "ax.set_title('Vis Black Sky Albedo: 2012', size=18)\n",
    "ax.set_xlabel('Year', size=24)\n",
    "ax.set_ylabel('BSVIS Albedo (-)', size=24)\n",
    "if savefigs:\n",
    "    plt.savefig(os.path.join(figdir,'ELM_vs_MODIS_BSA_VIS.pdf'))\n",
    "    plt.savefig(os.path.join(figdir,'ELM_vs_MODIS_BSA_VIS.png'))\n",
    "plt.show()"
   ]
  },
  {
   "cell_type": "markdown",
   "id": "8d2ad326-1a10-4e54-9cc4-10b52fc8faae",
   "metadata": {},
   "source": [
    "<br>\n",
    "\n",
    "#### Create comparison plot of Black Sky NIR Albedo (BSA_NIR)"
   ]
  },
  {
   "cell_type": "code",
   "execution_count": null,
   "id": "14ecf093-df57-4c25-a001-00f86e4b9786",
   "metadata": {},
   "outputs": [],
   "source": [
    "timerange=slice('2012-01-01','2012-12-31')\n",
    "\n",
    "fig = plt.figure(figsize=(16, 8))\n",
    "ax = fig.add_subplot(1, 1, 1)\n",
    "elm_output['BSA_NIR'].sel(time=timerange).plot(ax=ax, linestyle='-',linewidth=2.5,color='black',label='ELM NIR BSA')\n",
    "modis_bsa_nir['Albedo_BSA_nir'].plot(ax=ax,linestyle='-',linewidth=2.5,color='green',label='MODIS NIR BSA')\n",
    "ax.legend(fontsize=17)\n",
    "plt.xticks(fontsize=20, rotation=0, horizontalalignment='center')\n",
    "plt.yticks(fontsize=20, rotation=0)\n",
    "ax.set_title('NIR Black Sky Albedo: 2012', size=18)\n",
    "ax.set_xlabel('Year', size=24)\n",
    "ax.set_ylabel('BSNIR Albedo (-)', size=24)\n",
    "if savefigs:\n",
    "    plt.savefig(os.path.join(figdir,'ELM_vs_MODIS_BSA_NIR.pdf'))\n",
    "    plt.savefig(os.path.join(figdir,'ELM_vs_MODIS_BSA_NIR.png'))\n",
    "plt.show()"
   ]
  },
  {
   "cell_type": "markdown",
   "id": "e3f99a8b-0ed9-41f7-9d0a-572afba4c2e6",
   "metadata": {},
   "source": [
    "<br>\n",
    "\n",
    "#### Create comparison plot of Black Sky Shortwave Albedo (BSA_Shortwave)"
   ]
  },
  {
   "cell_type": "code",
   "execution_count": null,
   "id": "cfceb08c-9740-4061-8d5b-506a90e44a22",
   "metadata": {},
   "outputs": [],
   "source": [
    "timerange=slice('2012-01-01','2012-12-31')\n",
    "\n",
    "fig = plt.figure(figsize=(16, 8))\n",
    "ax = fig.add_subplot(1, 1, 1)\n",
    "elm_output['ASA'].sel(time=timerange).plot(ax=ax, linestyle='-',linewidth=2.5,color='black',label='ELM Shortwave BSA')\n",
    "modis_bsa_short['Albedo_BSA_shortwave'].plot(ax=ax,linestyle='-',linewidth=2.5,color='green',label='MODIS Shortwave BSA')\n",
    "ax.legend(fontsize=17)\n",
    "plt.xticks(fontsize=20, rotation=0, horizontalalignment='center')\n",
    "plt.yticks(fontsize=20, rotation=0)\n",
    "ax.set_title('Shortwave Black Sky Albedo: 2012', size=18)\n",
    "ax.set_xlabel('Year', size=24)\n",
    "ax.set_ylabel('BS Shortwave Albedo (-)', size=24)\n",
    "if savefigs:\n",
    "    plt.savefig(os.path.join(figdir,'ELM_vs_MODIS_BSA_Shortwave.pdf'))\n",
    "    plt.savefig(os.path.join(figdir,'ELM_vs_MODIS_BSA_Shortwave.png'))\n",
    "plt.show()"
   ]
  },
  {
   "cell_type": "markdown",
   "id": "3f0dd5b9-5150-4e47-9a78-8d6cd6ca2de1",
   "metadata": {},
   "source": [
    "<br>\n",
    "\n",
    "#### We can also evaluate the prediction of the water cycle against satellite retrievals.  \n",
    "\n",
    "To do this analysis we can use the MODIS MOD16A2: MODIS Global Terrestrial Evapotranspiration 8-Day Global 1km product to evaluate ELM evapotranspiration and latent heat flux"
   ]
  },
  {
   "cell_type": "code",
   "execution_count": null,
   "id": "85e93bcb-9c4a-465a-83ce-6338977dc45d",
   "metadata": {},
   "outputs": [],
   "source": [
    "# Run the extract function\n",
    "latitude = lat\n",
    "longitude = lon\n",
    "start_date = '2010-01-01'\n",
    "end_date = '2014-12-31'\n",
    "product = 'MODIS/NTSG/MOD16A2/105' \n",
    "\n",
    "# Extract data and obtain pd.DataFrame\n",
    "band = 'ET'\n",
    "scale_factor = 0.1\n",
    "modis_et = extract_time_series(latitude,longitude,start_date,end_date,product,band,scale_factor)\n",
    "#kg/m^2/8day\n",
    "\n",
    "band = 'LE'\n",
    "scale_factor = 10000\n",
    "modis_latheat = extract_time_series(latitude,longitude,start_date,end_date,product,band,scale_factor)\n",
    "#J/m^2/day"
   ]
  },
  {
   "cell_type": "code",
   "execution_count": null,
   "id": "69c74547-841b-4e15-b54a-a7e02fe9882a",
   "metadata": {},
   "outputs": [],
   "source": [
    "# before we plot ET lets do some unit conversions\n",
    "modis_et2 = np.divide(modis_et['ET'],8) # kg/m2/s\n",
    "\n",
    "# we also need to calculate ELM ET in mm/s\n",
    "elm_output['ET'] = elm_output['QVEGT']+elm_output['QVEGE']+elm_output['QSOIL']\n",
    "elm_output['ET'].attrs['units'] = 'mm/s'\n",
    "elm_output['ET'].attrs['long_name'] = 'Evapotranspiration'"
   ]
  },
  {
   "cell_type": "markdown",
   "id": "6880b37c-d1d3-4f45-93d6-806cd3a58938",
   "metadata": {},
   "source": [
    "<br>\n",
    "\n",
    "#### Now that we have the MODIS estimates, lets create a plot comparing MODIS and ELM ET and LE.  "
   ]
  },
  {
   "cell_type": "code",
   "execution_count": null,
   "id": "c0713193-560f-4960-aeb3-1786c2040ca5",
   "metadata": {},
   "outputs": [],
   "source": [
    "#EFLX_LH_TOT\n",
    "timerange=slice('2010-01-01','2014-12-31')\n",
    "\n",
    "# Create the figure\n",
    "fig,a=plt.subplots(nrows=2,ncols=1,clear=True,num='Radiation',figsize=(17,12))\n",
    "\n",
    "ax=a[0]\n",
    "elm_output['EFLX_LH_TOT'].sel(time=timerange).plot(ax=ax,linestyle='-',linewidth=2.5,color='green',label='ELM Latent Heat Flux')\n",
    "# convert MODIS from J/m^2/day to W/m2 to match ELM\n",
    "(modis_latheat['LE']*0.00001157407).plot(ax=ax,linestyle='-',linewidth=2.5,color='black',label='MODIS Latent Heat Flux')\n",
    "ax.legend(fontsize=17)\n",
    "ax.set_title('Latent Heat Flux: 2010-2014')\n",
    "plt.xticks(fontsize=20, rotation=0, horizontalalignment='center')\n",
    "plt.yticks(fontsize=20, rotation=0)\n",
    "ax.set_xlabel('Date', size=24)\n",
    "ax.set_ylabel('LE (W m$^{-2}$)', size=24)\n",
    "\n",
    "ax=a[1]\n",
    "(elm_output['ET']*24*3600).sel(time=timerange).plot(ax=ax,linestyle='-',linewidth=2.5,color='green',label='ELM Evapotranspiration')\n",
    "modis_et2.plot(ax=ax,linestyle='-',linewidth=2.5,color='black',label='MODIS Evapotranspiration')\n",
    "ax.legend(fontsize=17)\n",
    "ax.set_title('Evapotranspiration: 2010-2014')\n",
    "plt.xticks(fontsize=20, rotation=0, horizontalalignment='center')\n",
    "plt.yticks(fontsize=20, rotation=0)\n",
    "ax.set_xlabel('Date', size=24)\n",
    "ax.set_ylabel('ET (mm s$^{-1}$ d$^{-1}$)', size=24)\n",
    "\n",
    "if savefigs:\n",
    "    plt.savefig(os.path.join(figdir,'ELM_vs_MODIS_LE_ET.pdf'))\n",
    "    plt.savefig(os.path.join(figdir,'ELM_vs_MODIS_LE_ET.png'))\n",
    "plt.show()"
   ]
  },
  {
   "cell_type": "markdown",
   "id": "0a16c56c-98d4-410e-8dc0-650a124ed4f5",
   "metadata": {},
   "source": [
    "<br>\n",
    "\n",
    "#### Compare snow pack dynamics with remotely-sensed estimates. Use both Terra and Aqua satellite retrievals"
   ]
  },
  {
   "cell_type": "code",
   "execution_count": null,
   "id": "cb3bb0f2-ec63-4ee7-bf6d-666420d36a88",
   "metadata": {},
   "outputs": [],
   "source": [
    "# Run the extract function - get snow cover fraction from the Terra satellite\n",
    "latitude = lat\n",
    "longitude = lon\n",
    "start_date = '2010-01-01'\n",
    "end_date = '2012-12-31'\n",
    "product = 'MODIS/006/MOD10A1' \n",
    "\n",
    "# Extract data and obtain pd.DataFrame\n",
    "band = 'NDSI_Snow_Cover'\n",
    "scale_factor = 1\n",
    "modis_snow_cover = extract_time_series(latitude,longitude,start_date,end_date,product,band,scale_factor)"
   ]
  },
  {
   "cell_type": "code",
   "execution_count": null,
   "id": "a08ed9e5-3d98-44e1-8236-d70183f9dd96",
   "metadata": {},
   "outputs": [],
   "source": [
    "# Run the extract function - get the same data from the Aqua satellite\n",
    "latitude = lat\n",
    "longitude = lon\n",
    "start_date = '2010-01-01'\n",
    "end_date = '2012-12-31'\n",
    "product = 'MODIS/006/MYD10A1' \n",
    "\n",
    "# Extract data and obtain pd.DataFrame\n",
    "band = 'NDSI_Snow_Cover'\n",
    "scale_factor = 1\n",
    "modisqa_snow_cover = extract_time_series(latitude,longitude,start_date,end_date,product,band,scale_factor)"
   ]
  },
  {
   "cell_type": "markdown",
   "id": "e10421eb-0043-4633-84ac-d556d838bc89",
   "metadata": {},
   "source": [
    "<br>\n",
    "\n",
    "#### Create the MODIS vs ELM ground snow cover fraction plot. Here we will use both the Terra and Aqua satellite data to enhance the comparison  \n",
    "\n",
    "Note the issues with high-latitude satellite retrievals where a large proportion of the satellite timeseries is missing either because of cloud cover or other issues that impact the data quality"
   ]
  },
  {
   "cell_type": "code",
   "execution_count": null,
   "id": "140d3044-f78d-46ef-ba2b-072f3fff1107",
   "metadata": {},
   "outputs": [],
   "source": [
    "timerange=slice('2009-10-01','2013-07-31')\n",
    "\n",
    "fig = plt.figure(figsize=(16, 8))\n",
    "ax = fig.add_subplot(1, 1, 1)\n",
    "(elm_output['FSNO']*100).sel(time=timerange).plot(ax=ax, linestyle='-',linewidth=2.5,color='black',label='ELM Snow Fraction')\n",
    "modis_snow_cover['NDSI_Snow_Cover'].plot(ax=ax, linestyle='-',linewidth=2.5,color='blue',label='MODIS Terra Snow Fraction')\n",
    "modisqa_snow_cover['NDSI_Snow_Cover'].plot(ax=ax, linestyle='-',linewidth=2.5,color='green',label='MODIS Aqua Snow Fraction')\n",
    "ax.legend(fontsize=15)\n",
    "plt.xticks(fontsize=20, rotation=0, horizontalalignment='center')\n",
    "plt.yticks(fontsize=20, rotation=0)\n",
    "ax.set_title('Snow Fraction: 2010-2012', size=20)\n",
    "ax.set_xlabel('Year', size=24)\n",
    "ax.set_ylabel('Snow Fraction (%)', size=24)\n",
    "if savefigs:\n",
    "    plt.savefig(os.path.join(figdir,'ELM_vs_MODIS_Snow_Fraction.pdf'))\n",
    "    plt.savefig(os.path.join(figdir,'ELM_vs_MODIS_Snow_Fraction.png'))\n",
    "plt.show()"
   ]
  },
  {
   "cell_type": "markdown",
   "id": "aade8671-5f8a-4642-b935-5c06ba893eef",
   "metadata": {},
   "source": [
    "<br>"
   ]
  }
 ],
 "metadata": {
  "kernelspec": {
   "display_name": "Python 3 (ipykernel)",
   "language": "python",
   "name": "python3"
  },
  "language_info": {
   "codemirror_mode": {
    "name": "ipython",
    "version": 3
   },
   "file_extension": ".py",
   "mimetype": "text/x-python",
   "name": "python",
   "nbconvert_exporter": "python",
   "pygments_lexer": "ipython3",
   "version": "3.12.8"
  }
 },
 "nbformat": 4,
 "nbformat_minor": 5
}
